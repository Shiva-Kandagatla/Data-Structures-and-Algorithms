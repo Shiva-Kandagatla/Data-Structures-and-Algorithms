{
 "cells": [
  {
   "cell_type": "code",
   "execution_count": 115,
   "metadata": {},
   "outputs": [],
   "source": [
    "## Python Lists (Arrays)\n",
    "\n",
    "li = [1, 2, 3]\n",
    "\n",
    "li.append(4) # [1, 2, 3, 4]\n",
    "li.extend([4, 5, 6]) # [1, 2, 3, 4, 4, 5, 6]\n",
    "li.count(4) # 2\n",
    "li.index(4) # 3 (Returns First Match index)\n",
    "li.insert(0, 0) # [0, 1, 2, 3, 4, 4, 5, 6]\n",
    "li.pop() # [0, 1, 2, 3, 4, 4, 5]\n",
    "li.remove(0) # [1, 2, 3, 4, 4, 5]\n",
    "li.reverse() # [5, 4, 4, 3, 2, 1]\n",
    "\n",
    "len(li) # 6\n",
    "li[0] # 5\n",
    "li[-1] # 1\n",
    "\n",
    "li.clear() # []"
   ]
  },
  {
   "cell_type": "code",
   "execution_count": 112,
   "metadata": {},
   "outputs": [
    {
     "name": "stdout",
     "output_type": "stream",
     "text": [
      "False\n"
     ]
    },
    {
     "data": {
      "text/plain": [
       "2"
      ]
     },
     "execution_count": 112,
     "metadata": {},
     "output_type": "execute_result"
    }
   ],
   "source": [
    "# Stack using Lists / Arrays\n",
    "\n",
    "class Stack:\n",
    "    def __init__(self) -> None:\n",
    "        self.items = []\n",
    "    \n",
    "    def is_empty(self):\n",
    "        return len(self.items) == 0\n",
    "\n",
    "    def push(self, item):\n",
    "        self.items.append(item)\n",
    "\n",
    "    def pop(self):\n",
    "        if self.is_empty():\n",
    "            return None\n",
    "        return self.items.pop()\n",
    "    \n",
    "    def peek(self):\n",
    "        if self.is_empty():\n",
    "            return None\n",
    "        return self.items[-1]\n",
    "    \n",
    "    def size(self):\n",
    "        return len(self.items)\n",
    "\n",
    "stack = Stack()\n",
    "\n",
    "stack.push(1)\n",
    "stack.push(2)\n",
    "stack.push(3)\n",
    "\n",
    "stack.peek()\n",
    "print(stack.is_empty())\n",
    "stack.pop()\n",
    "stack.peek()\n"
   ]
  },
  {
   "cell_type": "code",
   "execution_count": 119,
   "metadata": {},
   "outputs": [
    {
     "data": {
      "text/plain": [
       "1"
      ]
     },
     "execution_count": 119,
     "metadata": {},
     "output_type": "execute_result"
    }
   ],
   "source": [
    "# Queue using Lists / Arrays\n",
    "\n",
    "class Queue:\n",
    "    def __init__(self) -> None:\n",
    "        self.items = []\n",
    "\n",
    "    def is_empty(self):\n",
    "        return len(self.items) == 0\n",
    "    \n",
    "    def enqueue(self, item):\n",
    "        self.items.insert(0, item)\n",
    "\n",
    "    def dequeue(self):\n",
    "        if self.is_empty():\n",
    "            return None\n",
    "        return self.items.pop()\n",
    "    \n",
    "    def peek(self):\n",
    "        if len(self.items) == 0:\n",
    "            return \n",
    "        else:\n",
    "            print(self.items[0])\n",
    "\n",
    "    \n",
    "queue = Queue()\n",
    "\n",
    "queue.enqueue(1) # [1]\n",
    "queue.enqueue(2) # [2, 1]\n",
    "queue.enqueue(3) # [3, 2, 1]\n",
    "\n",
    "queue.dequeue() # [3, 2]\n",
    "\n",
    "queue.peek()\n"
   ]
  },
  {
   "cell_type": "markdown",
   "metadata": {},
   "source": [
    "1. Array\n",
    "2. String and string buffer if Java\n",
    "3. Sorting\n",
    "4. Searching\n",
    "5. LinkedIn list\n",
    "5. Stack and queue\n",
    "6. Recursion\n",
    "7. Two pointers and fast, slow pointer\n",
    "8. Bit manipulation\n",
    "9. Tree\n",
    "10. Graph\n",
    "11. Divine and conquer\n",
    "12. Backtracking\n",
    "13. Dynamic Programming\n",
    "14. More / Other Rare Problems and topics\n",
    "Highlight points:\n",
    "- One topic, one time\n",
    "- Retention, like Review 1 and Revision 2, is my favourite\n",
    "- Consistency\n",
    "- Pen and A4 blank page or whiteboard\n",
    "- Write code in Notepad or Google Docs without any auto-suggestions or highlighter."
   ]
  },
  {
   "cell_type": "code",
   "execution_count": 10,
   "metadata": {},
   "outputs": [
    {
     "name": "stdout",
     "output_type": "stream",
     "text": [
      "0\n",
      "-1\n"
     ]
    }
   ],
   "source": [
    "# Binary Search\n",
    "\n",
    "def binary_search(arr: list, target: int) -> int :\n",
    "    l = 0\n",
    "    h = len(arr) - 1\n",
    "    while l <= h:\n",
    "        mid = l + (h-l) // 2\n",
    "        if target == arr[mid]:\n",
    "            return mid\n",
    "        elif target > arr[mid]:\n",
    "            l = mid + 1\n",
    "        else:\n",
    "            h = mid - 1\n",
    "    return -1\n",
    "print(binary_search( [-1,0,3,5,9,12] , -1))\n",
    "print(binary_search( [-1,0,3,5,9,12] , 8))"
   ]
  },
  {
   "cell_type": "markdown",
   "metadata": {},
   "source": [
    "## Stack And Queue Using Linked List"
   ]
  },
  {
   "cell_type": "code",
   "execution_count": 120,
   "metadata": {},
   "outputs": [],
   "source": [
    "class Node:\n",
    "    def __init__(self, value):\n",
    "        self.value = value\n",
    "        self.next = None"
   ]
  },
  {
   "cell_type": "code",
   "execution_count": 121,
   "metadata": {},
   "outputs": [
    {
     "name": "stdout",
     "output_type": "stream",
     "text": [
      "Push\n",
      "5\n",
      "4\n",
      "3\n",
      "2\n",
      "1\n",
      "Pop\n",
      "4\n",
      "3\n",
      "2\n",
      "1\n",
      "Peek\n",
      "4\n"
     ]
    }
   ],
   "source": [
    "class stack:\n",
    "    def __init__(self, initial):\n",
    "        self.top = None\n",
    "        for value in initial:\n",
    "            self.push(value)\n",
    "\n",
    "    def is_empty(self):\n",
    "        if self.top is None:\n",
    "            return True\n",
    "        else:\n",
    "            return False\n",
    "\n",
    "    def push(self, value):\n",
    "        node = Node(value)\n",
    "        if self.is_empty():\n",
    "            self.top = node\n",
    "        else:\n",
    "            node.next = self.top\n",
    "            self.top = node\n",
    "\n",
    "    def pop(self):\n",
    "        if self.is_empty():\n",
    "            return \"Stack Already Empty\"\n",
    "        else:\n",
    "            temp = self.top\n",
    "            self.top = self.top.next\n",
    "            return temp.value\n",
    "            \n",
    "    def show(self):\n",
    "        if self.is_empty():\n",
    "            print(\"Stack Empty\")\n",
    "            return\n",
    "        temp = self.top\n",
    "        while temp is not None:\n",
    "            print(temp.value)\n",
    "            temp = temp.next\n",
    "\n",
    "    def peek(self):\n",
    "        if self.is_empty():\n",
    "            return \n",
    "        else:\n",
    "            print(self.top.value)\n",
    "        \n",
    "sta = stack([1,2,3])\n",
    "\n",
    "print(\"Push\")\n",
    "sta.push(4)\n",
    "sta.push(5)\n",
    "sta.show()\n",
    "\n",
    "print(\"Pop\")\n",
    "sta.pop()\n",
    "sta.show()\n",
    "\n",
    "print(\"Peek\")\n",
    "sta.peek()"
   ]
  },
  {
   "cell_type": "code",
   "execution_count": 155,
   "metadata": {},
   "outputs": [
    {
     "name": "stdout",
     "output_type": "stream",
     "text": [
      "2\n",
      "3\n",
      "4\n"
     ]
    }
   ],
   "source": [
    "class Q:\n",
    "    def __init__(self):\n",
    "        self.front = None\n",
    "        self.rear = None\n",
    "    \n",
    "    def is_empty(self):\n",
    "        if self.front is None:\n",
    "            return True\n",
    "        else:\n",
    "            return False\n",
    "        \n",
    "    def nq(self, value): # Enqueue\n",
    "        curr_node = Node(value)\n",
    "        if self.is_empty():\n",
    "            self.front = self.rear = curr_node\n",
    "        else:\n",
    "            self.rear.next = curr_node\n",
    "            self.rear = curr_node\n",
    "\n",
    "    def dq(self): # Dequeue\n",
    "        if self.is_empty():\n",
    "            print(\"Queue Empty\")\n",
    "            return\n",
    "        temp = self.front\n",
    "        self.front = temp.next\n",
    "        \n",
    "        # Even though Q is empty, Rear still points to last dequeued element\n",
    "        if(self.front == None):\n",
    "            self.rear = None\n",
    "\n",
    "        return temp.value\n",
    "    \n",
    "    def show(self):\n",
    "        temp = self.front\n",
    "        while temp is not None :\n",
    "            print(temp.value)\n",
    "            temp = temp.next\n",
    "\n",
    "q = Q()\n",
    "q.nq(1)\n",
    "q.nq(2)\n",
    "q.nq(3)\n",
    "q.nq(4)\n",
    "q.dq()\n",
    "q.show()\n"
   ]
  },
  {
   "cell_type": "markdown",
   "metadata": {},
   "source": [
    "## Linked Lists"
   ]
  },
  {
   "cell_type": "code",
   "execution_count": 316,
   "metadata": {},
   "outputs": [],
   "source": [
    "class SinglyLinkedListNode:\n",
    "    def __init__(self, data) -> None:\n",
    "        self.data = data\n",
    "        self.next = None\n",
    "\n",
    "class SinglyLinkedList:\n",
    "    def __init__(self, initial_data = None) -> None:\n",
    "        self.head = None\n",
    "        if initial_data is not None:\n",
    "            for data in initial_data:\n",
    "                self.insert_at_end(data)\n",
    "\n",
    "    # Inserts\n",
    "    def insert_at_begin(self, data):\n",
    "        new_node = SinglyLinkedListNode(data)\n",
    "        if self.head == None:\n",
    "            self.head = new_node\n",
    "        else:\n",
    "            new_node.next = self.head\n",
    "            self.head = new_node\n",
    "\n",
    "    def insert_at_end(self, data):\n",
    "        new_node = SinglyLinkedListNode(data)\n",
    "        if self.head == None:\n",
    "            self.head = new_node\n",
    "        else:\n",
    "            curr = self.head\n",
    "            while curr.next != None:\n",
    "                curr = curr.next\n",
    "            curr.next = new_node\n",
    "\n",
    "    def insert_at_index(self, index, data):\n",
    "        if index == 0:\n",
    "            self.insert_at_begin(data)\n",
    "            return\n",
    "        else:\n",
    "            new_node = SinglyLinkedListNode(data)\n",
    "            curr = self.head\n",
    "            pos = 1\n",
    "            while curr.next != None:\n",
    "                if pos == index:\n",
    "                    new_node.next = curr.next\n",
    "                    curr.next = new_node\n",
    "                    return\n",
    "                curr = curr.next\n",
    "                pos = pos + 1\n",
    "            if pos == index: # Assuming that inserting just after the last node is also a valid scenario\n",
    "                curr.next = new_node\n",
    "                return \n",
    "            raise ValueError(\"Index cannot exceed length of the LinkedList\")\n",
    "        \n",
    "    # Updates\n",
    "    def update_at_begin(self, data):\n",
    "        if self.head is None:\n",
    "            self.head = SinglyLinkedListNode(data)\n",
    "        else:\n",
    "            self.head.data = data\n",
    "\n",
    "    def update_at_end(self, data):\n",
    "        if self.head == None:\n",
    "            self.head = SinglyLinkedListNode(data)\n",
    "        else:\n",
    "            curr = self.head\n",
    "            while curr.next != None:\n",
    "                curr = curr.next\n",
    "            curr.data = data\n",
    "\n",
    "    def update_at_index(self, index, data):\n",
    "        if index == 0:\n",
    "            self.update_at_begin(data)\n",
    "            return\n",
    "        else:\n",
    "            curr = self.head\n",
    "            pos = 1\n",
    "            while curr.next != None:\n",
    "                if pos == index:\n",
    "                    curr.next.data = data\n",
    "                    return\n",
    "                curr = curr.next\n",
    "                pos = pos + 1\n",
    "\n",
    "            raise ValueError(\"Index cannot exceed length of the LinkedList\")\n",
    "\n",
    "    # Deletes\n",
    "    def delete_at_begin(self):\n",
    "        if self.head == None:\n",
    "            raise ValueError(\"LinkedList is Empty \")\n",
    "        else:\n",
    "            self.head = self.head.next\n",
    "        \n",
    "\n",
    "    def delete_at_end(self):\n",
    "        if self.head == None:\n",
    "            raise ValueError(\"LinkedList is Empty \")\n",
    "        elif self.head.next is None:\n",
    "            self.head = None\n",
    "        else:\n",
    "            curr = self.head\n",
    "            while curr.next.next != None:\n",
    "                curr = curr.next\n",
    "            curr.next = None\n",
    "            return\n",
    "\n",
    "    def delete_at_index(self, index):\n",
    "        if self.head == None:\n",
    "            raise ValueError(\"LinkedList is Empty \")\n",
    "        \n",
    "        if index == 0:\n",
    "            self.delete_at_begin()\n",
    "            return\n",
    "        \n",
    "        else:\n",
    "            curr = self.head\n",
    "            pos = 1\n",
    "            while curr.next != None:\n",
    "                if pos == index:\n",
    "                    curr.next = curr.next.next\n",
    "                    return\n",
    "                pos = pos + 1\n",
    "                curr = curr.next\n",
    "            raise ValueError(\"Index cannot exceed length of the LinkedList\")\n",
    "        \n",
    "    def print_ll(self):\n",
    "        curr = self.head\n",
    "        while curr is not None:\n",
    "            print(curr.data, end = \" \")\n",
    "            curr = curr.next\n",
    "        print(\"\\n\")"
   ]
  },
  {
   "cell_type": "code",
   "execution_count": 313,
   "metadata": {},
   "outputs": [
    {
     "name": "stdout",
     "output_type": "stream",
     "text": [
      "1 2 3 \n",
      "\n",
      "100 1 2 3 \n",
      "\n",
      "100 1 2 3 100 \n",
      "\n",
      "100 1 200 2 3 100 \n",
      "\n"
     ]
    }
   ],
   "source": [
    "ll = SinglyLinkedList([1,2,3])\n",
    "ll.print_ll()\n",
    "ll.insert_at_begin(100)\n",
    "ll.print_ll()\n",
    "ll.insert_at_end(100)\n",
    "ll.print_ll()\n",
    "ll.insert_at_index(2,200)\n",
    "ll.print_ll()"
   ]
  },
  {
   "cell_type": "code",
   "execution_count": 314,
   "metadata": {},
   "outputs": [
    {
     "name": "stdout",
     "output_type": "stream",
     "text": [
      "1 2 3 \n",
      "\n",
      "100 2 3 \n",
      "\n",
      "100 2 100 \n",
      "\n",
      "100 200 100 \n",
      "\n"
     ]
    }
   ],
   "source": [
    "ll = SinglyLinkedList([1,2,3])\n",
    "ll.print_ll()\n",
    "ll.update_at_begin(100)\n",
    "ll.print_ll()\n",
    "ll.update_at_end(100)\n",
    "ll.print_ll()\n",
    "ll.update_at_index(1, 200)\n",
    "ll.print_ll()"
   ]
  },
  {
   "cell_type": "code",
   "execution_count": 315,
   "metadata": {},
   "outputs": [
    {
     "name": "stdout",
     "output_type": "stream",
     "text": [
      "1 2 3 4 5 \n",
      "\n",
      "2 3 4 5 \n",
      "\n",
      "2 3 4 \n",
      "\n",
      "2 3 \n",
      "\n"
     ]
    }
   ],
   "source": [
    "ll = SinglyLinkedList([1, 2, 3, 4, 5])\n",
    "ll.print_ll()\n",
    "ll.delete_at_begin()\n",
    "ll.print_ll()\n",
    "ll.delete_at_end()\n",
    "ll.print_ll()\n",
    "ll.delete_at_index(2)\n",
    "ll.print_ll()"
   ]
  }
 ],
 "metadata": {
  "kernelspec": {
   "display_name": "Python 3",
   "language": "python",
   "name": "python3"
  },
  "language_info": {
   "codemirror_mode": {
    "name": "ipython",
    "version": 3
   },
   "file_extension": ".py",
   "mimetype": "text/x-python",
   "name": "python",
   "nbconvert_exporter": "python",
   "pygments_lexer": "ipython3",
   "version": "3.9.6"
  }
 },
 "nbformat": 4,
 "nbformat_minor": 2
}
